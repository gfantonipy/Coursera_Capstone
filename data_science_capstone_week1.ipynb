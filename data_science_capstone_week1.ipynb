{
 "cells": [
  {
   "cell_type": "markdown",
   "metadata": {},
   "source": [
    "<a href=\"https://www.bigdatauniversity.com\"><img src = \"https://ibm.box.com/shared/static/cw2c7r3o20w9zn8gkecaeyjhgw3xdgbj.png\" width = 400, align = \"center\"></a>\n",
    "\n",
    "<h1>IBM Data science professional certificate</h1>\n",
    "<h2>Course 10 - Applied Data science capstone</h2>\n",
    "\n",
    "<h2>Guillermo Fantoni</h2>\n",
    "\n",
    "\n",
    "This notebook will be used in the final project of IBM Data science professional certificate. In this  chapter i will import the librarys of numpy and pandas"
   ]
  },
  {
   "cell_type": "code",
   "execution_count": 1,
   "metadata": {},
   "outputs": [
    {
     "name": "stdout",
     "output_type": "stream",
     "text": [
      "numpy imported\n"
     ]
    }
   ],
   "source": [
    "import numpy as np \n",
    "print(\"numpy imported\")"
   ]
  },
  {
   "cell_type": "code",
   "execution_count": 2,
   "metadata": {},
   "outputs": [
    {
     "name": "stdout",
     "output_type": "stream",
     "text": [
      "pandas imported\n"
     ]
    }
   ],
   "source": [
    "import pandas as pd\n",
    "print(\"pandas imported\")"
   ]
  },
  {
   "cell_type": "code",
   "execution_count": 3,
   "metadata": {},
   "outputs": [
    {
     "name": "stdout",
     "output_type": "stream",
     "text": [
      "Hello Capstone Project Course!\n"
     ]
    }
   ],
   "source": [
    "print(\"Hello Capstone Project Course!\")"
   ]
  },
  {
   "cell_type": "markdown",
   "metadata": {},
   "source": [
    "## Author\n",
    "\n",
    "Guillermo Fantoni \n",
    "\n",
    "## Linkedin profile\n",
    "\n",
    "<a href=\"https://www.linkedin.com/in/guillermo-fantoni-rubio-135598194/\" target=\"_blank\">Guillermo Fantoni</a>\n",
    "\n",
    "## Notebook log\n",
    "| Date (YYYY-MM-DD) | Version | Changed By           | Change Description                   |\n",
    "| ----------------- | ------- | ---------------------| ------------------------------------ |\n",
    "| 2021-04-10        | 1.0     | Guillermo Fantoni    | Create the notebook                  |\n",
    "|                   |         |                      |                                      |\n"
   ]
  }
 ],
 "metadata": {
  "kernelspec": {
   "display_name": "Python 3",
   "language": "python",
   "name": "python3"
  },
  "language_info": {
   "codemirror_mode": {
    "name": "ipython",
    "version": 3
   },
   "file_extension": ".py",
   "mimetype": "text/x-python",
   "name": "python",
   "nbconvert_exporter": "python",
   "pygments_lexer": "ipython3",
   "version": "3.8.5"
  }
 },
 "nbformat": 4,
 "nbformat_minor": 4
}
